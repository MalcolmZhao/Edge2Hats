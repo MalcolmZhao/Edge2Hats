{
 "cells": [
  {
   "cell_type": "code",
   "execution_count": 57,
   "id": "e527462d",
   "metadata": {},
   "outputs": [],
   "source": [
    "import warnings\n",
    "warnings.filterwarnings(\"ignore\")"
   ]
  },
  {
   "cell_type": "code",
   "execution_count": 58,
   "id": "49f6ef1e",
   "metadata": {},
   "outputs": [],
   "source": [
    "import selenium\n",
    "from selenium import webdriver\n",
    "from selenium.webdriver.common.by import By\n",
    "from selenium.webdriver.common.keys import Keys\n",
    "from selenium.webdriver.common.action_chains import ActionChains"
   ]
  },
  {
   "cell_type": "code",
   "execution_count": 59,
   "id": "35bba4f6",
   "metadata": {},
   "outputs": [],
   "source": [
    "# Specify the path to the GeckoDriver executable\n",
    "geckodriver_path = 'geckodriver.exe'\n",
    "# Create a Firefox WebDriver instance with a custom service using the specified executable path\n",
    "service = webdriver.firefox.service.Service(geckodriver_path)\n",
    "driver = webdriver.Firefox(service=service)\n",
    "driver.maximize_window()\n",
    "driver.get_cookies()\n",
    "driver.delete_all_cookies() # clear cookies so that user could manually input his/her credentials"
   ]
  },
  {
   "cell_type": "code",
   "execution_count": 60,
   "id": "57ec17fb",
   "metadata": {},
   "outputs": [],
   "source": [
    "import requests\n",
    "from io import BytesIO\n",
    "from PIL import Image"
   ]
  },
  {
   "cell_type": "code",
   "execution_count": 61,
   "id": "c0eb6b03",
   "metadata": {},
   "outputs": [],
   "source": [
    "# functions to download pictures given the pictures' url\n",
    "def picture_download(pic_url, filepath):\n",
    "    response = requests.get(pic_url)\n",
    "    image = BytesIO(response.content)\n",
    "    with open(filepath, 'wb') as f:\n",
    "        f.write(image.getvalue())"
   ]
  },
  {
   "cell_type": "code",
   "execution_count": 78,
   "id": "932c6d4c",
   "metadata": {},
   "outputs": [],
   "source": [
    "# get the entire page's relevant pictures' url\n",
    "def get_page_url(driver, cnt, folder):\n",
    "    # find target chunk by class_name\n",
    "    page_container = driver.find_elements(By.CLASS_NAME, \"s-image-padding\")\n",
    "    for element in page_container:\n",
    "        if cnt % 20 == 0:\n",
    "            print(\"    picture\", cnt)\n",
    "        # find each picture's chunk by type\n",
    "        url = element.find_element(By.CSS_SELECTOR, \"img\").get_attribute(\"src\")\n",
    "        folder = \"+\".join(folder.split())\n",
    "        img_name = \"image_\" + folder + str(IDX) + str(cnt) + \".jpg\"\n",
    "        img_path = os.path.join(r\"C:\\Users\\DELL\\Downloads\\module2_result\", img_name)\n",
    "        # download the picture\n",
    "        picture_download(url, img_path)\n",
    "        cnt += 1\n",
    "    return cnt"
   ]
  },
  {
   "cell_type": "code",
   "execution_count": 79,
   "id": "5030fb32",
   "metadata": {},
   "outputs": [],
   "source": [
    "import os"
   ]
  },
  {
   "cell_type": "code",
   "execution_count": 80,
   "id": "8b2e4976",
   "metadata": {},
   "outputs": [],
   "source": [
    "import time"
   ]
  },
  {
   "cell_type": "code",
   "execution_count": 81,
   "id": "3efb1611",
   "metadata": {},
   "outputs": [],
   "source": [
    "# iterate through pages\n",
    "def craw_pictures(category):\n",
    "    idx = 1\n",
    "    for page in range(1, 40):\n",
    "        print(\"page\", page)\n",
    "        # Amazon only provide 8 pages sr, using \"Next Page\" button is not applicable\n",
    "        cur_url = \"https://www.amazon.com/s?k=\" + category + \"&page=\" + str(page) + \"&qid=1706311911&ref=sr_pg_1\"\n",
    "        driver.get(cur_url)\n",
    "        time.sleep(0.6)\n",
    "        idx = get_page_url(driver, idx, category)"
   ]
  },
  {
   "cell_type": "code",
   "execution_count": 82,
   "id": "d7406f45",
   "metadata": {
    "scrolled": false
   },
   "outputs": [
    {
     "name": "stdout",
     "output_type": "stream",
     "text": [
      "page 1\n",
      "    picture 20\n",
      "    picture 40\n",
      "    picture 60\n",
      "page 2\n",
      "    picture 80\n",
      "    picture 100\n",
      "    picture 120\n",
      "page 3\n",
      "    picture 140\n",
      "    picture 160\n",
      "    picture 180\n",
      "    picture 200\n",
      "page 4\n",
      "    picture 220\n",
      "    picture 240\n",
      "    picture 260\n",
      "page 5\n",
      "    picture 280\n",
      "    picture 300\n",
      "    picture 320\n",
      "page 6\n",
      "page 7\n",
      "    picture 340\n",
      "    picture 360\n",
      "page 8\n",
      "    picture 380\n",
      "page 9\n",
      "page 10\n",
      "    picture 400\n",
      "page 11\n",
      "    picture 420\n",
      "page 12\n",
      "    picture 440\n",
      "page 13\n",
      "    picture 460\n",
      "page 14\n",
      "    picture 480\n",
      "page 15\n",
      "    picture 500\n",
      "page 16\n",
      "page 17\n",
      "    picture 520\n",
      "page 18\n",
      "    picture 540\n",
      "page 19\n",
      "    picture 560\n",
      "page 20\n",
      "    picture 580\n",
      "page 21\n",
      "page 22\n",
      "    picture 600\n",
      "page 23\n",
      "page 24\n",
      "    picture 620\n",
      "page 25\n",
      "    picture 640\n",
      "page 26\n",
      "    picture 660\n",
      "page 27\n",
      "    picture 680\n",
      "page 28\n",
      "    picture 700\n",
      "page 29\n",
      "page 30\n",
      "    picture 720\n",
      "page 31\n",
      "page 32\n",
      "    picture 740\n",
      "page 33\n",
      "page 34\n",
      "page 35\n",
      "    picture 760\n",
      "page 36\n",
      "page 37\n",
      "page 38\n",
      "page 39\n",
      "    picture 780\n"
     ]
    }
   ],
   "source": [
    "IDX = 3\n",
    "craw_pictures(\"comics cap\")"
   ]
  },
  {
   "cell_type": "code",
   "execution_count": 83,
   "id": "06abf143",
   "metadata": {},
   "outputs": [],
   "source": [
    "driver.quit()"
   ]
  },
  {
   "cell_type": "code",
   "execution_count": 90,
   "id": "82a0cbcc",
   "metadata": {},
   "outputs": [],
   "source": [
    "import random"
   ]
  },
  {
   "cell_type": "code",
   "execution_count": 96,
   "id": "0c30c64c",
   "metadata": {},
   "outputs": [],
   "source": [
    "folder = os.path.join(r\"C:\\Users\\DELL\\Downloads\\module2_result\")"
   ]
  },
  {
   "cell_type": "code",
   "execution_count": 97,
   "id": "4601011f",
   "metadata": {},
   "outputs": [],
   "source": [
    "jpg_files = [f for f in os.listdir(folder) if f.endswith('.jpg')]"
   ]
  },
  {
   "cell_type": "code",
   "execution_count": 98,
   "id": "031da9dc",
   "metadata": {},
   "outputs": [],
   "source": [
    "indexes = list(range(len(jpg_files)))\n",
    "random.shuffle(indexes)"
   ]
  },
  {
   "cell_type": "code",
   "execution_count": 100,
   "id": "4570be95",
   "metadata": {},
   "outputs": [],
   "source": [
    "for i, filename in enumerate(jpg_files):\n",
    "    base_name = ''.join([c for c in filename if not c.isdigit()])\n",
    "    new_name = str(indexes[i]) + base_name\n",
    "    os.rename(os.path.join(folder, filename), os.path.join(folder, new_name))"
   ]
  },
  {
   "cell_type": "code",
   "execution_count": null,
   "id": "a9c8f497",
   "metadata": {},
   "outputs": [],
   "source": []
  }
 ],
 "metadata": {
  "kernelspec": {
   "display_name": "Python 3 (ipykernel)",
   "language": "python",
   "name": "python3"
  },
  "language_info": {
   "codemirror_mode": {
    "name": "ipython",
    "version": 3
   },
   "file_extension": ".py",
   "mimetype": "text/x-python",
   "name": "python",
   "nbconvert_exporter": "python",
   "pygments_lexer": "ipython3",
   "version": "3.11.4"
  }
 },
 "nbformat": 4,
 "nbformat_minor": 5
}
