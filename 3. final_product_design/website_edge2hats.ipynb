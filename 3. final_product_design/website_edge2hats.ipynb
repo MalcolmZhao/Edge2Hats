{
 "cells": [
  {
   "cell_type": "code",
   "execution_count": 1,
   "metadata": {},
   "outputs": [],
   "source": [
    "from PIL import Image\n",
    "import scipy.ndimage\n",
    "import os\n",
    "import numpy as np\n",
    "# import sys"
   ]
  },
  {
   "cell_type": "code",
   "execution_count": 2,
   "metadata": {},
   "outputs": [],
   "source": [
    "import gradio as gr"
   ]
  },
  {
   "cell_type": "code",
   "execution_count": 3,
   "metadata": {},
   "outputs": [],
   "source": [
    "import torch\n",
    "import torchvision.transforms as transforms"
   ]
  },
  {
   "cell_type": "code",
   "execution_count": 4,
   "metadata": {},
   "outputs": [],
   "source": [
    "from model_edge2hats import Generator, ResNetBlock"
   ]
  },
  {
   "cell_type": "code",
   "execution_count": 5,
   "metadata": {},
   "outputs": [],
   "source": [
    "js_func = \"\"\"\n",
    "    function refresh() {\n",
    "        const url = new URL(window.location);\n",
    "        if (url.searchParams.get('__theme') !== 'light') {\n",
    "            url.searchParams.set('__theme', 'light');\n",
    "            window.location.href = url.href;\n",
    "        }\n",
    "    }\n",
    "    \"\"\""
   ]
  },
  {
   "cell_type": "code",
   "execution_count": 6,
   "metadata": {},
   "outputs": [],
   "source": [
    "# Define global variables\n",
    "resolution = 500  # Define your resolution\n",
    "nz = 100\n",
    "ngf = 64\n",
    "edge_brush = gr.Brush(default_size = 4, colors = [\"#010101\", \"#F0F0F0\"], color_mode = \"fixed\", default_color = \"#010101\")\n",
    "canvas = gr.ImageEditor(label = \"Canvas\", show_label = False, interactive = True, type = \"numpy\",\n",
    "                        image_mode = \"RGB\", sources = (\"upload\"), brush = edge_brush, eraser = False, transforms = [])\n",
    "output_canvas = gr.Image(label = \"Output\", show_label = False, interactive = False, height = resolution, width = resolution)"
   ]
  },
  {
   "cell_type": "code",
   "execution_count": 7,
   "metadata": {},
   "outputs": [
    {
     "data": {
      "text/plain": [
       "<All keys matched successfully>"
      ]
     },
     "execution_count": 7,
     "metadata": {},
     "output_type": "execute_result"
    }
   ],
   "source": [
    "transform_edge = transforms.Compose([\n",
    "                               transforms.Resize(128),\n",
    "                               transforms.CenterCrop(128),\n",
    "                               transforms.ToTensor(),\n",
    "                               transforms.Normalize(0.5, 0.5),\n",
    "                           ])\n",
    "model_sub_path = os.path.join(\"models\", \"50.pth\")\n",
    "model = Generator(1)\n",
    "model_tmp = torch.load(model_sub_path, map_location = torch.device('cpu'))\n",
    "model.load_state_dict(model_tmp.state_dict())"
   ]
  },
  {
   "cell_type": "code",
   "execution_count": 8,
   "metadata": {},
   "outputs": [],
   "source": [
    "def resize_template(orignal):\n",
    "    original_shape = max(orignal.shape)\n",
    "    scale_factor = resolution / original_shape\n",
    "    square_array = scipy.ndimage.zoom(orignal, scale_factor)\n",
    "    if orignal.shape[0] == orignal.shape[1]:\n",
    "        return square_array\n",
    "    right_pad = resolution - square_array.shape[1]\n",
    "    down_pad = resolution - square_array.shape[0]\n",
    "    square_array = np.pad(square_array, \n",
    "                          ((0, down_pad), (0, right_pad)),\n",
    "                          mode = \"constant\",\n",
    "                          constant_values = 255)\n",
    "    return square_array"
   ]
  },
  {
   "cell_type": "code",
   "execution_count": 9,
   "metadata": {},
   "outputs": [],
   "source": [
    "def color_fill(image_array):\n",
    "    background = image_array[\"background\"]\n",
    "    image_array = image_array[\"composite\"]\n",
    "    image_array = np.sum(image_array, axis=2)\n",
    "    if background.sum() == 0:\n",
    "        image_array = np.where(image_array == 3, 0, 255).astype(np.uint8)\n",
    "    else:\n",
    "        image_array = np.where(image_array == 3 * 255, 255, 0).astype(np.uint8)\n",
    "\n",
    "    if image_array.shape[0] != image_array.shape[1]:\n",
    "        padding = max(image_array.shape)\n",
    "        top_pad = (padding - image_array.shape[0]) // 2\n",
    "        bottom_pad = padding - image_array.shape[0] - top_pad\n",
    "        left_pad = (padding - image_array.shape[1]) // 2\n",
    "        right_pad = padding - image_array.shape[1] - left_pad\n",
    "        # Pad the image at the center\n",
    "        image_array = np.pad(image_array, \n",
    "                              ((top_pad, bottom_pad), (left_pad, right_pad)),\n",
    "                              mode=\"constant\",\n",
    "                              constant_values=255)\n",
    "        \n",
    "    image_tensor = transform_edge(Image.fromarray(image_array))\n",
    "    image_tensor = image_tensor.unsqueeze(0)\n",
    "    fixed_noise = torch.randn(1, 100, 1, 1)\n",
    "    model.eval()\n",
    "    with torch.no_grad():\n",
    "        generated = model(fixed_noise, image_tensor)[0]\n",
    "    low = float(generated.min())\n",
    "    high = float(generated.max())\n",
    "    generated = generated.clamp_(min = low, max = high)\n",
    "    generated = generated.sub_(low).div_(max(high - low, 1e-5))\n",
    "    generated = generated.mul(255).add_(0.5).clamp_(0, 255).permute(1, 2, 0).to(\"cpu\", torch.uint8).numpy()\n",
    "    zoom_factor = [resolution / 128, resolution / 128, 1]\n",
    "    generated = scipy.ndimage.zoom(generated, zoom_factor)\n",
    "    return generated"
   ]
  },
  {
   "cell_type": "code",
   "execution_count": 10,
   "metadata": {},
   "outputs": [
    {
     "name": "stderr",
     "output_type": "stream",
     "text": [
      "c:\\Users\\DELL\\anaconda3\\Lib\\site-packages\\gradio\\interface.py:377: UserWarning: The `allow_flagging` parameter in `Interface` nowtakes a string value ('auto', 'manual', or 'never'), not a boolean. Setting parameter to: 'never'.\n",
      "  warnings.warn(\n"
     ]
    },
    {
     "name": "stdout",
     "output_type": "stream",
     "text": [
      "Running on local URL:  http://0.0.0.0:3308\n",
      "IMPORTANT: You are using gradio version 4.24.0, however version 4.29.0 is available, please upgrade.\n",
      "--------\n",
      "IMPORTANT: You are using gradio version 4.24.0, however version 4.29.0 is available, please upgrade.\n",
      "--------\n",
      "Running on public URL: https://4aa1cabf216e23a075.gradio.live\n",
      "\n",
      "This share link expires in 72 hours. For free permanent hosting and GPU upgrades, run `gradio deploy` from Terminal to deploy to Spaces (https://huggingface.co/spaces)\n"
     ]
    },
    {
     "data": {
      "text/html": [
       "<div><iframe src=\"https://4aa1cabf216e23a075.gradio.live\" width=\"100%\" height=\"500\" allow=\"autoplay; camera; microphone; clipboard-read; clipboard-write;\" frameborder=\"0\" allowfullscreen></iframe></div>"
      ],
      "text/plain": [
       "<IPython.core.display.HTML object>"
      ]
     },
     "metadata": {},
     "output_type": "display_data"
    }
   ],
   "source": [
    "with gr.Blocks(js = js_func) as demo:\n",
    "    # Create Gradio interface\n",
    "    draw_interface = gr.Interface(\n",
    "        color_fill,\n",
    "        theme = \"default\",\n",
    "        title = \"Edge2Hats\",\n",
    "        allow_flagging=False,\n",
    "        inputs = canvas,\n",
    "        outputs = output_canvas\n",
    "    )\n",
    "    demo.launch(draw_interface, server_name = \"0.0.0.0\", server_port = 3308, share = True)"
   ]
  },
  {
   "cell_type": "code",
   "execution_count": null,
   "metadata": {},
   "outputs": [],
   "source": []
  },
  {
   "cell_type": "code",
   "execution_count": null,
   "metadata": {},
   "outputs": [],
   "source": []
  }
 ],
 "metadata": {
  "kernelspec": {
   "display_name": "base",
   "language": "python",
   "name": "python3"
  },
  "language_info": {
   "codemirror_mode": {
    "name": "ipython",
    "version": 3
   },
   "file_extension": ".py",
   "mimetype": "text/x-python",
   "name": "python",
   "nbconvert_exporter": "python",
   "pygments_lexer": "ipython3",
   "version": "3.11.4"
  }
 },
 "nbformat": 4,
 "nbformat_minor": 2
}
